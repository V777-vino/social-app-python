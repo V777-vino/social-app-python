{
 "cells": [
  {
   "cell_type": "code",
   "execution_count": 3,
   "id": "544c7894",
   "metadata": {},
   "outputs": [],
   "source": [
    "import re\n",
    "from datetime import datetime\n",
    "\n",
    "def name_validation(name):\n",
    "    if(re.fullmatch('[A-Za-z]{2,25}([A-Za-z]{2,25})?',name)):\n",
    "        return True\n",
    "    else:\n",
    "        print(\"\\n***Enter a valid name***\")\n",
    "        return False\n",
    "def age_validation(age):\n",
    "    if(int(age)>=10 and int(age)<=99):\n",
    "        return True\n",
    "    else:\n",
    "        print(\"\\n***Enter a valid age***\")\n",
    "        return False\n",
    "def mail_validation(email):\n",
    "    \n",
    "    if(re.fullmatch(r'[A-Za-z0-9._+-]+@[A-Za-z0-9.-]+\\.[A-Z|a-z]+',email)):\n",
    "        return True\n",
    "    else:\n",
    "        print(\"\\n***Enter a valid mail id***\")\n",
    "        return False\n",
    "def phone_number_validation(phone_num):\n",
    "    if(re.fullmatch('[0-9]+',phone_num) and len(phone_num)==10):\n",
    "        return True\n",
    "    else:\n",
    "        print(\"\\n***Invalid phone number***\")\n",
    "        return False\n",
    "def gender_validation(gender):\n",
    "    if(re.fullmatch(r'[M|F]',gender.upper())):\n",
    "        return True\n",
    "    else:\n",
    "        print(\"\\n***Enter a valid gender***\")\n",
    "        return False\n",
    "def password_validation(password):\n",
    "    if re.match(r\"^(?=.*[a-z])(?=.*[A-Z])(?=.*[@$!%*?&])(?=.*\\d)[a-zA-Z\\d@$!%*?&]{8,}$\",password):\n",
    "        return True\n",
    "    else:\n",
    "        print(\"\\n***The password length should be 8 and must contain one upper and one lower case***\")\n",
    "        return False\n",
    "def is_valid_date(date_string):\n",
    "    try:\n",
    "        datetime.strptime(date_string,'%Y-%m-%d')\n",
    "        return True\n",
    "    except ValueError:\n",
    "        print(\"\\n***Enter the date 'YYYY-MM-DD' this format!***\")\n",
    "        return False\n",
    "# password_validation(\"U17cs2011@\")\n",
    "# print(name_validation(\"john\"))\n",
    "# print(age_validation(\"62\"))\n",
    "# print(mail_validation(\"antony@gmail.com\"))\n",
    "# print(gender_validation('d'))\n",
    "# print(phone_number_validation(\"8189880516\"))\n",
    "# print(is_valid_date(\"1999-06-204\"))\n"
   ]
  }
 ],
 "metadata": {
  "kernelspec": {
   "display_name": "Python 3 (ipykernel)",
   "language": "python",
   "name": "python3"
  },
  "language_info": {
   "codemirror_mode": {
    "name": "ipython",
    "version": 3
   },
   "file_extension": ".py",
   "mimetype": "text/x-python",
   "name": "python",
   "nbconvert_exporter": "python",
   "pygments_lexer": "ipython3",
   "version": "3.9.13"
  }
 },
 "nbformat": 4,
 "nbformat_minor": 5
}
